{
 "cells": [
  {
   "cell_type": "markdown",
   "metadata": {},
   "source": [
    "### Webdata shard creation from grocery data\n"
   ]
  },
  {
   "cell_type": "code",
   "execution_count": null,
   "metadata": {},
   "outputs": [],
   "source": [
    "import os\n",
    "import torch\n",
    "from torch.utils.data import IterableDataset\n",
    "from torchvision import transforms\n",
    "import webdataset as wds\n",
    "from itertools import islice\n",
    "import torchvision\n",
    "import sys\n",
    "from datasetinsights.io import create_downloader\n",
    "from datasetinsights.datasets import Dataset"
   ]
  },
  {
   "cell_type": "markdown",
   "metadata": {},
   "source": [
    "#### Download grocery data"
   ]
  },
  {
   "cell_type": "code",
   "execution_count": null,
   "metadata": {},
   "outputs": [],
   "source": [
    "data_path = \"/Users/sanjay.vishwakarma/Desktop/Project_Doc/webdataset\"\n",
    "groceries_real_source_uri = \"https://storage.googleapis.com/datasetinsights/data/groceries/v3.zip\"\n",
    "downloader = create_downloader(source_uri=groceries_real_source_uri)\n",
    "downloader.download(source_uri=groceries_real_source_uri, output=data_path)"
   ]
  },
  {
   "cell_type": "markdown",
   "metadata": {},
   "source": [
    "#### Load datainto pytorch dataset"
   ]
  },
  {
   "cell_type": "code",
   "execution_count": null,
   "metadata": {},
   "outputs": [],
   "source": [
    "test_dataset = Dataset.create(\"GroceriesReal\", data_path=data_path, split=\"test\")"
   ]
  },
  {
   "cell_type": "markdown",
   "metadata": {},
   "source": [
    "#### Verify the loaded data"
   ]
  },
  {
   "cell_type": "code",
   "execution_count": null,
   "metadata": {},
   "outputs": [],
   "source": [
    "for index, (img,anno) in enumerate(test_dataset):\n",
    "    print(anno, type(anno))\n",
    "    break"
   ]
  },
  {
   "cell_type": "markdown",
   "metadata": {},
   "source": [
    "#### Create the shards"
   ]
  },
  {
   "cell_type": "code",
   "execution_count": null,
   "metadata": {},
   "outputs": [],
   "source": [
    "with wds.ShardWriter(\"groceries_train-%06d.tar\", maxcount=100) as sink:\n",
    "    for index, (img, cls) in enumerate(test_dataset):\n",
    "#         if index>=150:\n",
    "#             break\n",
    "        print(f\"{index:6d}\", end=\"\\r\", flush=True, file=sys.stderr)\n",
    "        sink.write({\n",
    "            \"__key__\": \"%06d\" % index,\n",
    "            \"jpg\": img,\n",
    "            \"cls\": cls,\n",
    "        })"
   ]
  },
  {
   "cell_type": "code",
   "execution_count": null,
   "metadata": {},
   "outputs": [],
   "source": []
  },
  {
   "cell_type": "code",
   "execution_count": null,
   "metadata": {},
   "outputs": [],
   "source": []
  }
 ],
 "metadata": {
  "kernelspec": {
   "display_name": "Python 3",
   "language": "python",
   "name": "python3"
  },
  "language_info": {
   "codemirror_mode": {
    "name": "ipython",
    "version": 3
   },
   "file_extension": ".py",
   "mimetype": "text/x-python",
   "name": "python",
   "nbconvert_exporter": "python",
   "pygments_lexer": "ipython3",
   "version": "3.7.6"
  }
 },
 "nbformat": 4,
 "nbformat_minor": 4
}
